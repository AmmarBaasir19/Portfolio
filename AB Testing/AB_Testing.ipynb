{
 "cells": [
  {
   "cell_type": "markdown",
   "id": "a48794c7-c820-4667-97b3-e6022e6869dd",
   "metadata": {},
   "source": [
    "#### Nama     : Ammar Khaq Baasir\n",
    "#### Email    : ammarbaasir19@gmail.com\n",
    "#### Linkedin : https://www.linkedin.com/in/ammar-baasir-973873234/\n",
    "#### Github   : https://github.com/AmmarBaasir19"
   ]
  },
  {
   "cell_type": "markdown",
   "id": "8c87f228-3239-4f24-bf48-27ab0397e93a",
   "metadata": {},
   "source": [
    "# Marketing A/B Testing"
   ]
  },
  {
   "attachments": {
    "aadb6f4a-aed8-4ab8-8996-95580221ed1d.png": {
     "image/png": "[encoded data removed]"
    }
   },
   "cell_type": "markdown",
   "id": "389f9a06-2d74-4d9d-b4ca-b566a837251d",
   "metadata": {},
   "source": [
    "![ab-testing-marketing.png](attachment:aadb6f4a-aed8-4ab8-8996-95580221ed1d.png)"
   ]
  },
  {
   "cell_type": "markdown",
   "id": "14ecfa81-027c-4774-a0e4-d6eb8dc1b4b5",
   "metadata": {},
   "source": [
    "A/B Testing merupakan metode eksperimen di bidang pemasaran (marketing) yang digunakan untuk membandingkan dua versi dari suatu elemen dengan tujuan mengidentifikasi elemen mana yang memberikan hasil yang baik. "
   ]
  },
  {
   "cell_type": "markdown",
   "id": "6d519579-4b6d-42e4-b720-4c7fbb42280e",
   "metadata": {},
   "source": [
    "### A/B Testing for Marketing Campaign"
   ]
  },
  {
   "cell_type": "markdown",
   "id": "5cf40780-70ab-4f57-9e98-fc5e49e5c2c9",
   "metadata": {},
   "source": [
    "Dataset : https://www.kaggle.com/datasets/faviovaz/marketing-ab-testing/data"
   ]
  },
  {
   "cell_type": "markdown",
   "id": "4e26ce09-bbf7-4d46-912f-2da907b06649",
   "metadata": {},
   "source": [
    "Terdapat sebuah perusahaan pemasaran yang ingin menjalankan sebuah campaign diberbagai media seperti **web page, page element, banner, etc.**. perusahaan memiliki kendala dimana **biaya dari campaign sangat terbatas** perusahaan menginginkan biaya campaign yang mereka keluarkan dapat tepat sasaran (tepat kepada customer) yang benar - benar tertarik dengan campaign dan cenderung memberikan respon positif terhadap campaign mereka. masalah selanjutnya yakni perusahaan ini tidak mengetahui apakah campaign yang mereka pasang diberbagai media ini bisa berhasil? dan pada media mana campaign ini menarik perhatian para customer?. perusahaan menyadari bahwa pasar atau market mereka sangatlah kompleks dan perlu dilakukan beberapa eksperiment untuk bisa mendapatkan sebuah insight ataupun formula yang tepat. maka dari itu terciptalah sebuah ide untuk mengumpulkan data - data campaign yang telah mereka lakukan sebelumnya. data - data ini dikumpulkan untuk dilakukan analisis berdasarkan kelompok - kelompok tersebut dan untuk mengetahui apakah campaign tersebut berhasil?. selain itu, data ini diharapkan dapat memberikan informasi mengenai berapa banyak yang dapat diperoleh oleh perusahaan dari campaign tersebut, dan apakah perbedaan antar kelompok tersebut signifikan secara statistik."
   ]
  },
  {
   "cell_type": "markdown",
   "id": "0c6b0bb9-fc4a-45c0-bef7-4861b3f6d9b4",
   "metadata": {},
   "source": [
    "#### Satge 1 : Business Problem\n",
    "1. Apa problem yang ingin diselesaikan dari dataset tersebut?<br>\n",
    "\n",
    "2. Sebagai siapa kalian pada dataset tersebut? <br>\n",
    "   Answer : Data Scientist In Marketing\n",
    "3. Apa goal yang ingin dicapai? <br>\n",
    "   \n",
    "4. Apa objective yang sesuai dengan goal tersebut?<br>\n",
    "\n",
    "5. Apa Business Metrics yang cocok untuk mengukur ketercapaian objective tersebut?<br>\n"
   ]
  },
  {
   "cell_type": "markdown",
   "id": "738c923c-3cc1-468c-a48e-7483d57a4299",
   "metadata": {},
   "source": [
    "#### Stage 2 : Exploratory Data Analysis (EDA)"
   ]
  },
  {
   "cell_type": "code",
   "execution_count": 70,
   "id": "c98df32d-cf9e-4ad4-aba7-234575cf84b4",
   "metadata": {
    "tags": []
   },
   "outputs": [],
   "source": [
    "import pandas as pd\n",
    "import numpy as np\n",
    "import matplotlib \n",
    "import matplotlib.pyplot as plt\n",
    "import seaborn as sns"
   ]
  },
  {
   "cell_type": "code",
   "execution_count": 71,
   "id": "caee6935-e221-4f17-865d-56cba8e3bb9f",
   "metadata": {
    "tags": []
   },
   "outputs": [
    {
     "name": "stdout",
     "output_type": "stream",
     "text": [
      "Pandas Version : 2.1.1\n",
      "Numpy Version : 1.26.0\n",
      "Matplotlib Version : 3.8.0\n",
      "Seaborn Version : 0.13.0\n"
     ]
    }
   ],
   "source": [
    "print(f\"Pandas Version : {pd.__version__}\")\n",
    "print(f\"Numpy Version : {np.__version__}\")\n",
    "print(f\"Matplotlib Version : {matplotlib.__version__}\")\n",
    "print(f\"Seaborn Version : {sns.__version__}\")"
   ]
  },
  {
   "cell_type": "markdown",
   "id": "98bec6ee-be6a-4fc6-afac-70e958e1c1a6",
   "metadata": {},
   "source": [
    "#### Read Dataset"
   ]
  },
  {
   "cell_type": "code",
   "execution_count": 72,
   "id": "59733d7c-ae79-4a47-af51-c1cbc122bf70",
   "metadata": {
    "tags": []
   },
   "outputs": [
    {
     "data": {
      "text/html": [
       "<div>\n",
       "<style scoped>\n",
       "    .dataframe tbody tr th:only-of-type {\n",
       "        vertical-align: middle;\n",
       "    }\n",
       "\n",
       "    .dataframe tbody tr th {\n",
       "        vertical-align: top;\n",
       "    }\n",
       "\n",
       "    .dataframe thead th {\n",
       "        text-align: right;\n",
       "    }\n",
       "</style>\n",
       "<table border=\"1\" class=\"dataframe\">\n",
       "  <thead>\n",
       "    <tr style=\"text-align: right;\">\n",
       "      <th></th>\n",
       "      <th>Unnamed: 0</th>\n",
       "      <th>user id</th>\n",
       "      <th>test group</th>\n",
       "      <th>converted</th>\n",
       "      <th>total ads</th>\n",
       "      <th>most ads day</th>\n",
       "      <th>most ads hour</th>\n",
       "    </tr>\n",
       "  </thead>\n",
       "  <tbody>\n",
       "    <tr>\n",
       "      <th>11494</th>\n",
       "      <td>11494</td>\n",
       "      <td>1634547</td>\n",
       "      <td>ad</td>\n",
       "      <td>False</td>\n",
       "      <td>55</td>\n",
       "      <td>Wednesday</td>\n",
       "      <td>23</td>\n",
       "    </tr>\n",
       "    <tr>\n",
       "      <th>24817</th>\n",
       "      <td>24817</td>\n",
       "      <td>1506292</td>\n",
       "      <td>ad</td>\n",
       "      <td>False</td>\n",
       "      <td>60</td>\n",
       "      <td>Wednesday</td>\n",
       "      <td>13</td>\n",
       "    </tr>\n",
       "    <tr>\n",
       "      <th>430019</th>\n",
       "      <td>430019</td>\n",
       "      <td>1407206</td>\n",
       "      <td>ad</td>\n",
       "      <td>False</td>\n",
       "      <td>9</td>\n",
       "      <td>Friday</td>\n",
       "      <td>19</td>\n",
       "    </tr>\n",
       "    <tr>\n",
       "      <th>118410</th>\n",
       "      <td>118410</td>\n",
       "      <td>1591192</td>\n",
       "      <td>ad</td>\n",
       "      <td>False</td>\n",
       "      <td>4</td>\n",
       "      <td>Saturday</td>\n",
       "      <td>22</td>\n",
       "    </tr>\n",
       "    <tr>\n",
       "      <th>221535</th>\n",
       "      <td>221535</td>\n",
       "      <td>1601037</td>\n",
       "      <td>ad</td>\n",
       "      <td>False</td>\n",
       "      <td>16</td>\n",
       "      <td>Friday</td>\n",
       "      <td>22</td>\n",
       "    </tr>\n",
       "  </tbody>\n",
       "</table>\n",
       "</div>"
      ],
      "text/plain": [
       "        Unnamed: 0  user id test group  converted  total ads most ads day  \\\n",
       "11494        11494  1634547         ad      False         55    Wednesday   \n",
       "24817        24817  1506292         ad      False         60    Wednesday   \n",
       "430019      430019  1407206         ad      False          9       Friday   \n",
       "118410      118410  1591192         ad      False          4     Saturday   \n",
       "221535      221535  1601037         ad      False         16       Friday   \n",
       "\n",
       "        most ads hour  \n",
       "11494              23  \n",
       "24817              13  \n",
       "430019             19  \n",
       "118410             22  \n",
       "221535             22  "
      ]
     },
     "execution_count": 72,
     "metadata": {},
     "output_type": "execute_result"
    }
   ],
   "source": [
    "df = pd.read_csv('marketing_AB.csv')\n",
    "df.sample(5)"
   ]
  },
  {
   "cell_type": "code",
   "execution_count": 73,
   "id": "c25df26f-fd50-4d9b-8fd5-a947b00fef6a",
   "metadata": {
    "tags": []
   },
   "outputs": [],
   "source": [
    "df = df.drop(['Unnamed: 0'], axis=1)"
   ]
  },
  {
   "cell_type": "code",
   "execution_count": 74,
   "id": "15796451-dbc2-4529-a469-27546f54ff19",
   "metadata": {
    "tags": []
   },
   "outputs": [
    {
     "name": "stdout",
     "output_type": "stream",
     "text": [
      "<class 'pandas.core.frame.DataFrame'>\n",
      "RangeIndex: 588101 entries, 0 to 588100\n",
      "Data columns (total 6 columns):\n",
      " #   Column         Non-Null Count   Dtype \n",
      "---  ------         --------------   ----- \n",
      " 0   user id        588101 non-null  int64 \n",
      " 1   test group     588101 non-null  object\n",
      " 2   converted      588101 non-null  bool  \n",
      " 3   total ads      588101 non-null  int64 \n",
      " 4   most ads day   588101 non-null  object\n",
      " 5   most ads hour  588101 non-null  int64 \n",
      "dtypes: bool(1), int64(3), object(2)\n",
      "memory usage: 23.0+ MB\n"
     ]
    }
   ],
   "source": [
    "df.info()"
   ]
  },
  {
   "cell_type": "code",
   "execution_count": 76,
   "id": "b9a516a7-b7c7-45bc-ac1f-cb5470b3c9a7",
   "metadata": {
    "tags": []
   },
   "outputs": [
    {
     "name": "stdout",
     "output_type": "stream",
     "text": [
      "Columns : \u001b[1mtest group\u001b[0m\n",
      "Value Counts : test group\n",
      "ad     564577\n",
      "psa     23524\n",
      "Name: count, dtype: int64\n",
      "\n",
      "Columns : \u001b[1mconverted\u001b[0m\n",
      "Value Counts : converted\n",
      "False    573258\n",
      "True      14843\n",
      "Name: count, dtype: int64\n",
      "\n",
      "Columns : \u001b[1mmost ads day\u001b[0m\n",
      "Value Counts : most ads day\n",
      "Friday       92608\n",
      "Monday       87073\n",
      "Sunday       85391\n",
      "Thursday     82982\n",
      "Saturday     81660\n",
      "Wednesday    80908\n",
      "Tuesday      77479\n",
      "Name: count, dtype: int64\n",
      "\n",
      "Columns : \u001b[1mmost ads hour\u001b[0m\n",
      "Value Counts : most ads hour\n",
      "13    47655\n",
      "12    47298\n",
      "11    46210\n",
      "14    45648\n",
      "15    44683\n",
      "10    38939\n",
      "16    37567\n",
      "17    34988\n",
      "18    32323\n",
      "9     31004\n",
      "19    30352\n",
      "21    29976\n",
      "20    28923\n",
      "22    26432\n",
      "23    20166\n",
      "8     17627\n",
      "7      6405\n",
      "0      5536\n",
      "2      5333\n",
      "1      4802\n",
      "3      2679\n",
      "6      2068\n",
      "5       765\n",
      "4       722\n",
      "Name: count, dtype: int64\n",
      "\n"
     ]
    }
   ],
   "source": [
    "df_value = df.drop(df[['user id', 'total ads']], axis=1)\n",
    "for column in df_value.columns:\n",
    "    print(f\"Columns : \\033[1m{column}\\033[0m\")\n",
    "    print(f\"Value Counts : {df_value[column].value_counts()}\")\n",
    "    print()"
   ]
  },
  {
   "cell_type": "markdown",
   "id": "b66de1de-4e8d-4785-9d47-b12c92a20325",
   "metadata": {},
   "source": [
    "userid merepresentasikan bahwa 1 user id merupakan 1 user (customer) dan tidak terdapat userid yang duplicated"
   ]
  },
  {
   "cell_type": "code",
   "execution_count": 94,
   "id": "734fd835-4992-4b4e-9c56-607f776a8f83",
   "metadata": {
    "tags": []
   },
   "outputs": [
    {
     "data": {
      "text/html": [
       "<div>\n",
       "<style scoped>\n",
       "    .dataframe tbody tr th:only-of-type {\n",
       "        vertical-align: middle;\n",
       "    }\n",
       "\n",
       "    .dataframe tbody tr th {\n",
       "        vertical-align: top;\n",
       "    }\n",
       "\n",
       "    .dataframe thead th {\n",
       "        text-align: right;\n",
       "    }\n",
       "</style>\n",
       "<table border=\"1\" class=\"dataframe\">\n",
       "  <thead>\n",
       "    <tr style=\"text-align: right;\">\n",
       "      <th></th>\n",
       "      <th>test group</th>\n",
       "      <th>converted</th>\n",
       "      <th>user id</th>\n",
       "    </tr>\n",
       "  </thead>\n",
       "  <tbody>\n",
       "    <tr>\n",
       "      <th>0</th>\n",
       "      <td>ad</td>\n",
       "      <td>False</td>\n",
       "      <td>550154</td>\n",
       "    </tr>\n",
       "    <tr>\n",
       "      <th>1</th>\n",
       "      <td>ad</td>\n",
       "      <td>True</td>\n",
       "      <td>14423</td>\n",
       "    </tr>\n",
       "    <tr>\n",
       "      <th>2</th>\n",
       "      <td>psa</td>\n",
       "      <td>False</td>\n",
       "      <td>23104</td>\n",
       "    </tr>\n",
       "    <tr>\n",
       "      <th>3</th>\n",
       "      <td>psa</td>\n",
       "      <td>True</td>\n",
       "      <td>420</td>\n",
       "    </tr>\n",
       "  </tbody>\n",
       "</table>\n",
       "</div>"
      ],
      "text/plain": [
       "  test group  converted  user id\n",
       "0         ad      False   550154\n",
       "1         ad       True    14423\n",
       "2        psa      False    23104\n",
       "3        psa       True      420"
      ]
     },
     "execution_count": 94,
     "metadata": {},
     "output_type": "execute_result"
    }
   ],
   "source": [
    "df_test_group = df.groupby(['test group', 'converted'])['user id'].count().reset_index()\n",
    "df_test_group"
   ]
  },
  {
   "cell_type": "code",
   "execution_count": 148,
   "id": "0e92e522-8f84-4f68-a9fa-e903fbe1118a",
   "metadata": {
    "tags": []
   },
   "outputs": [
    {
     "data": {
      "text/plain": [
       "test group\n",
       "ad     564577\n",
       "psa     23524\n",
       "Name: user id, dtype: int64"
      ]
     },
     "execution_count": 148,
     "metadata": {},
     "output_type": "execute_result"
    }
   ],
   "source": [
    "sum_user = df.groupby('test group')['user id'].count()\n",
    "sum_user"
   ]
  },
  {
   "cell_type": "code",
   "execution_count": 150,
   "id": "b7929a93-933f-41df-9b69-6cce192058f9",
   "metadata": {
    "tags": []
   },
   "outputs": [],
   "source": [
    "percentage = []\n",
    "for percen in df_test_group['user id']:\n",
    "    sum_user = df.groupby('test group')['user id'].count()\n",
    "    cal_percen = (percen/sum_user) * 100\n",
    "    percentage.append(cal_percen)"
   ]
  },
  {
   "cell_type": "code",
   "execution_count": 171,
   "id": "e4b6b82c-20c2-4869-aa0f-bb5e68f76506",
   "metadata": {
    "tags": []
   },
   "outputs": [
    {
     "name": "stdout",
     "output_type": "stream",
     "text": [
      "ad\n",
      "ad\n",
      "error\n",
      "error\n"
     ]
    }
   ],
   "source": [
    "for colom in df_test_group['test group']:\n",
    "    if colom == 'ad':\n",
    "        print(colom)\n",
    "        #tot_user_ad = df_test_group[df_test_group['test group'] == 'ad']['user id'].sum()\n",
    "        #cal_percent_ad = (df_test_group['user id']/tot_user_ad) * 100\n",
    "        #print(cal_percent_ad)\n",
    "    else :\n",
    "        print('error')\n",
    "        #tot_user_psa = df_test_group[df_test_group['test group'] == 'psa']['user id'].sum()\n",
    "        #cal_percent_psa = (df_test_group['user id']/tot_user_psa) * 100\n",
    "        #print(cal_percent_psa)"
   ]
  },
  {
   "cell_type": "code",
   "execution_count": 175,
   "id": "4c242ae6-b06e-41d7-baba-0b425fcef510",
   "metadata": {
    "tags": []
   },
   "outputs": [
    {
     "data": {
      "text/plain": [
       "test group\n",
       "ad     564577\n",
       "psa     23524\n",
       "Name: user id, dtype: int64"
      ]
     },
     "execution_count": 175,
     "metadata": {},
     "output_type": "execute_result"
    }
   ],
   "source": [
    "df_test_group.groupby('test group')['user id'].sum()"
   ]
  },
  {
   "cell_type": "code",
   "execution_count": 166,
   "id": "586a5d60-a80e-4f19-9474-0398ab10404b",
   "metadata": {
    "tags": []
   },
   "outputs": [
    {
     "data": {
      "text/plain": [
       "564577"
      ]
     },
     "execution_count": 166,
     "metadata": {},
     "output_type": "execute_result"
    }
   ],
   "source": [
    "df_test_group[df_test_group['test group'] == 'ad']['user id'].sum()"
   ]
  },
  {
   "cell_type": "code",
   "execution_count": 138,
   "id": "9255fec0-b74e-436f-a9a4-64010ff23d8d",
   "metadata": {
    "tags": []
   },
   "outputs": [
    {
     "data": {
      "text/html": [
       "<div>\n",
       "<style scoped>\n",
       "    .dataframe tbody tr th:only-of-type {\n",
       "        vertical-align: middle;\n",
       "    }\n",
       "\n",
       "    .dataframe tbody tr th {\n",
       "        vertical-align: top;\n",
       "    }\n",
       "\n",
       "    .dataframe thead th {\n",
       "        text-align: right;\n",
       "    }\n",
       "</style>\n",
       "<table border=\"1\" class=\"dataframe\">\n",
       "  <thead>\n",
       "    <tr style=\"text-align: right;\">\n",
       "      <th></th>\n",
       "      <th>test group</th>\n",
       "      <th>converted</th>\n",
       "      <th>user id</th>\n",
       "      <th>percentage</th>\n",
       "    </tr>\n",
       "  </thead>\n",
       "  <tbody>\n",
       "    <tr>\n",
       "      <th>0</th>\n",
       "      <td>ad</td>\n",
       "      <td>False</td>\n",
       "      <td>550154</td>\n",
       "      <td>NaN</td>\n",
       "    </tr>\n",
       "    <tr>\n",
       "      <th>1</th>\n",
       "      <td>ad</td>\n",
       "      <td>True</td>\n",
       "      <td>14423</td>\n",
       "      <td>NaN</td>\n",
       "    </tr>\n",
       "    <tr>\n",
       "      <th>2</th>\n",
       "      <td>psa</td>\n",
       "      <td>False</td>\n",
       "      <td>23104</td>\n",
       "      <td>NaN</td>\n",
       "    </tr>\n",
       "    <tr>\n",
       "      <th>3</th>\n",
       "      <td>psa</td>\n",
       "      <td>True</td>\n",
       "      <td>420</td>\n",
       "      <td>NaN</td>\n",
       "    </tr>\n",
       "  </tbody>\n",
       "</table>\n",
       "</div>"
      ],
      "text/plain": [
       "  test group  converted  user id  percentage\n",
       "0         ad      False   550154         NaN\n",
       "1         ad       True    14423         NaN\n",
       "2        psa      False    23104         NaN\n",
       "3        psa       True      420         NaN"
      ]
     },
     "execution_count": 138,
     "metadata": {},
     "output_type": "execute_result"
    }
   ],
   "source": [
    "df_test_group['percentage'] = (df_test_group['user id']/df.groupby('test group')['user id'].count()) * 100\n",
    "df_test_group"
   ]
  },
  {
   "cell_type": "code",
   "execution_count": 117,
   "id": "dabbb614-4052-4700-a7c5-24950875bd4c",
   "metadata": {
    "tags": []
   },
   "outputs": [],
   "source": [
    "tot_user_ad = df_test_group[df_test_group['test group'] == 'ad']\n",
    "df_test_group['percentage converted'] = "
   ]
  },
  {
   "cell_type": "code",
   "execution_count": null,
   "id": "49bae77b-3266-45fe-bdfc-f26552369f34",
   "metadata": {},
   "outputs": [],
   "source": [
    "df_test_group"
   ]
  },
  {
   "cell_type": "code",
   "execution_count": 126,
   "id": "0c987647-7ed3-4a46-a42e-fdf99a78dbe7",
   "metadata": {
    "tags": []
   },
   "outputs": [
    {
     "data": {
      "text/plain": [
       "0    97.445344\n",
       "1     2.554656\n",
       "Name: user id, dtype: float64"
      ]
     },
     "execution_count": 126,
     "metadata": {},
     "output_type": "execute_result"
    }
   ],
   "source": [
    "a = (tot_user_ad['user id']/tot_user_ad['user id'].sum()) * 100\n",
    "a"
   ]
  },
  {
   "cell_type": "code",
   "execution_count": 101,
   "id": "fc4677dc-1c29-48eb-b248-acca082df210",
   "metadata": {
    "tags": []
   },
   "outputs": [
    {
     "data": {
      "text/plain": [
       "<BarContainer object of 4 artists>"
      ]
     },
     "execution_count": 101,
     "metadata": {},
     "output_type": "execute_result"
    },
    {
     "data": {
      "image/png": "[encoded data removed]",
      "text/plain": [
       "<Figure size 1900x600 with 1 Axes>"
      ]
     },
     "metadata": {},
     "output_type": "display_data"
    }
   ],
   "source": [
    "plt.figure(figsize=(19,6))\n",
    "plt.bar(df_test_group['test group'], df_test_group['user id'][0])\n",
    "plt.bar(df_test_group['test group'], df_test_group['user id'][1])"
   ]
  },
  {
   "cell_type": "code",
   "execution_count": 84,
   "id": "eae12ef7-b7a2-49f9-8602-3f8846789bd3",
   "metadata": {
    "tags": []
   },
   "outputs": [
    {
     "data": {
      "text/html": [
       "<div>\n",
       "<style scoped>\n",
       "    .dataframe tbody tr th:only-of-type {\n",
       "        vertical-align: middle;\n",
       "    }\n",
       "\n",
       "    .dataframe tbody tr th {\n",
       "        vertical-align: top;\n",
       "    }\n",
       "\n",
       "    .dataframe thead th {\n",
       "        text-align: right;\n",
       "    }\n",
       "</style>\n",
       "<table border=\"1\" class=\"dataframe\">\n",
       "  <thead>\n",
       "    <tr style=\"text-align: right;\">\n",
       "      <th></th>\n",
       "      <th>total ads</th>\n",
       "      <th>converted</th>\n",
       "      <th>user id</th>\n",
       "    </tr>\n",
       "  </thead>\n",
       "  <tbody>\n",
       "    <tr>\n",
       "      <th>0</th>\n",
       "      <td>1</td>\n",
       "      <td>False</td>\n",
       "      <td>56517</td>\n",
       "    </tr>\n",
       "    <tr>\n",
       "      <th>1</th>\n",
       "      <td>1</td>\n",
       "      <td>True</td>\n",
       "      <td>89</td>\n",
       "    </tr>\n",
       "    <tr>\n",
       "      <th>2</th>\n",
       "      <td>2</td>\n",
       "      <td>False</td>\n",
       "      <td>39733</td>\n",
       "    </tr>\n",
       "    <tr>\n",
       "      <th>3</th>\n",
       "      <td>2</td>\n",
       "      <td>True</td>\n",
       "      <td>94</td>\n",
       "    </tr>\n",
       "    <tr>\n",
       "      <th>4</th>\n",
       "      <td>3</td>\n",
       "      <td>False</td>\n",
       "      <td>28580</td>\n",
       "    </tr>\n",
       "    <tr>\n",
       "      <th>...</th>\n",
       "      <td>...</td>\n",
       "      <td>...</td>\n",
       "      <td>...</td>\n",
       "    </tr>\n",
       "    <tr>\n",
       "      <th>1293</th>\n",
       "      <td>1491</td>\n",
       "      <td>True</td>\n",
       "      <td>1</td>\n",
       "    </tr>\n",
       "    <tr>\n",
       "      <th>1294</th>\n",
       "      <td>1632</td>\n",
       "      <td>False</td>\n",
       "      <td>1</td>\n",
       "    </tr>\n",
       "    <tr>\n",
       "      <th>1295</th>\n",
       "      <td>1680</td>\n",
       "      <td>True</td>\n",
       "      <td>1</td>\n",
       "    </tr>\n",
       "    <tr>\n",
       "      <th>1296</th>\n",
       "      <td>1778</td>\n",
       "      <td>True</td>\n",
       "      <td>1</td>\n",
       "    </tr>\n",
       "    <tr>\n",
       "      <th>1297</th>\n",
       "      <td>2065</td>\n",
       "      <td>False</td>\n",
       "      <td>1</td>\n",
       "    </tr>\n",
       "  </tbody>\n",
       "</table>\n",
       "<p>1298 rows × 3 columns</p>\n",
       "</div>"
      ],
      "text/plain": [
       "      total ads  converted  user id\n",
       "0             1      False    56517\n",
       "1             1       True       89\n",
       "2             2      False    39733\n",
       "3             2       True       94\n",
       "4             3      False    28580\n",
       "...         ...        ...      ...\n",
       "1293       1491       True        1\n",
       "1294       1632      False        1\n",
       "1295       1680       True        1\n",
       "1296       1778       True        1\n",
       "1297       2065      False        1\n",
       "\n",
       "[1298 rows x 3 columns]"
      ]
     },
     "execution_count": 84,
     "metadata": {},
     "output_type": "execute_result"
    }
   ],
   "source": [
    "df_total_ads = df.groupby(['total ads', 'converted'])['user id'].count().reset_index()\n",
    "df_total_ads"
   ]
  },
  {
   "cell_type": "code",
   "execution_count": 86,
   "id": "bc88c37a-222b-472a-b978-045bba970a80",
   "metadata": {
    "tags": []
   },
   "outputs": [
    {
     "data": {
      "text/html": [
       "<div>\n",
       "<style scoped>\n",
       "    .dataframe tbody tr th:only-of-type {\n",
       "        vertical-align: middle;\n",
       "    }\n",
       "\n",
       "    .dataframe tbody tr th {\n",
       "        vertical-align: top;\n",
       "    }\n",
       "\n",
       "    .dataframe thead th {\n",
       "        text-align: right;\n",
       "    }\n",
       "</style>\n",
       "<table border=\"1\" class=\"dataframe\">\n",
       "  <thead>\n",
       "    <tr style=\"text-align: right;\">\n",
       "      <th></th>\n",
       "      <th>most ads day</th>\n",
       "      <th>converted</th>\n",
       "      <th>user id</th>\n",
       "    </tr>\n",
       "  </thead>\n",
       "  <tbody>\n",
       "    <tr>\n",
       "      <th>0</th>\n",
       "      <td>Friday</td>\n",
       "      <td>False</td>\n",
       "      <td>90551</td>\n",
       "    </tr>\n",
       "    <tr>\n",
       "      <th>1</th>\n",
       "      <td>Friday</td>\n",
       "      <td>True</td>\n",
       "      <td>2057</td>\n",
       "    </tr>\n",
       "    <tr>\n",
       "      <th>2</th>\n",
       "      <td>Monday</td>\n",
       "      <td>False</td>\n",
       "      <td>84216</td>\n",
       "    </tr>\n",
       "    <tr>\n",
       "      <th>3</th>\n",
       "      <td>Monday</td>\n",
       "      <td>True</td>\n",
       "      <td>2857</td>\n",
       "    </tr>\n",
       "    <tr>\n",
       "      <th>4</th>\n",
       "      <td>Saturday</td>\n",
       "      <td>False</td>\n",
       "      <td>79941</td>\n",
       "    </tr>\n",
       "    <tr>\n",
       "      <th>5</th>\n",
       "      <td>Saturday</td>\n",
       "      <td>True</td>\n",
       "      <td>1719</td>\n",
       "    </tr>\n",
       "    <tr>\n",
       "      <th>6</th>\n",
       "      <td>Sunday</td>\n",
       "      <td>False</td>\n",
       "      <td>83301</td>\n",
       "    </tr>\n",
       "    <tr>\n",
       "      <th>7</th>\n",
       "      <td>Sunday</td>\n",
       "      <td>True</td>\n",
       "      <td>2090</td>\n",
       "    </tr>\n",
       "    <tr>\n",
       "      <th>8</th>\n",
       "      <td>Thursday</td>\n",
       "      <td>False</td>\n",
       "      <td>81192</td>\n",
       "    </tr>\n",
       "    <tr>\n",
       "      <th>9</th>\n",
       "      <td>Thursday</td>\n",
       "      <td>True</td>\n",
       "      <td>1790</td>\n",
       "    </tr>\n",
       "    <tr>\n",
       "      <th>10</th>\n",
       "      <td>Tuesday</td>\n",
       "      <td>False</td>\n",
       "      <td>75167</td>\n",
       "    </tr>\n",
       "    <tr>\n",
       "      <th>11</th>\n",
       "      <td>Tuesday</td>\n",
       "      <td>True</td>\n",
       "      <td>2312</td>\n",
       "    </tr>\n",
       "    <tr>\n",
       "      <th>12</th>\n",
       "      <td>Wednesday</td>\n",
       "      <td>False</td>\n",
       "      <td>78890</td>\n",
       "    </tr>\n",
       "    <tr>\n",
       "      <th>13</th>\n",
       "      <td>Wednesday</td>\n",
       "      <td>True</td>\n",
       "      <td>2018</td>\n",
       "    </tr>\n",
       "  </tbody>\n",
       "</table>\n",
       "</div>"
      ],
      "text/plain": [
       "   most ads day  converted  user id\n",
       "0        Friday      False    90551\n",
       "1        Friday       True     2057\n",
       "2        Monday      False    84216\n",
       "3        Monday       True     2857\n",
       "4      Saturday      False    79941\n",
       "5      Saturday       True     1719\n",
       "6        Sunday      False    83301\n",
       "7        Sunday       True     2090\n",
       "8      Thursday      False    81192\n",
       "9      Thursday       True     1790\n",
       "10      Tuesday      False    75167\n",
       "11      Tuesday       True     2312\n",
       "12    Wednesday      False    78890\n",
       "13    Wednesday       True     2018"
      ]
     },
     "execution_count": 86,
     "metadata": {},
     "output_type": "execute_result"
    }
   ],
   "source": [
    "df_most_day = df.groupby(['most ads day', 'converted'])['user id'].count().reset_index()\n",
    "df_most_day"
   ]
  },
  {
   "cell_type": "code",
   "execution_count": 87,
   "id": "eedc20be-9026-4cf8-99b0-3101add2f27d",
   "metadata": {
    "tags": []
   },
   "outputs": [
    {
     "data": {
      "text/html": [
       "<div>\n",
       "<style scoped>\n",
       "    .dataframe tbody tr th:only-of-type {\n",
       "        vertical-align: middle;\n",
       "    }\n",
       "\n",
       "    .dataframe tbody tr th {\n",
       "        vertical-align: top;\n",
       "    }\n",
       "\n",
       "    .dataframe thead th {\n",
       "        text-align: right;\n",
       "    }\n",
       "</style>\n",
       "<table border=\"1\" class=\"dataframe\">\n",
       "  <thead>\n",
       "    <tr style=\"text-align: right;\">\n",
       "      <th></th>\n",
       "      <th>most ads hour</th>\n",
       "      <th>converted</th>\n",
       "      <th>user id</th>\n",
       "    </tr>\n",
       "  </thead>\n",
       "  <tbody>\n",
       "    <tr>\n",
       "      <th>0</th>\n",
       "      <td>0</td>\n",
       "      <td>False</td>\n",
       "      <td>5434</td>\n",
       "    </tr>\n",
       "    <tr>\n",
       "      <th>1</th>\n",
       "      <td>0</td>\n",
       "      <td>True</td>\n",
       "      <td>102</td>\n",
       "    </tr>\n",
       "    <tr>\n",
       "      <th>2</th>\n",
       "      <td>1</td>\n",
       "      <td>False</td>\n",
       "      <td>4740</td>\n",
       "    </tr>\n",
       "    <tr>\n",
       "      <th>3</th>\n",
       "      <td>1</td>\n",
       "      <td>True</td>\n",
       "      <td>62</td>\n",
       "    </tr>\n",
       "    <tr>\n",
       "      <th>4</th>\n",
       "      <td>2</td>\n",
       "      <td>False</td>\n",
       "      <td>5294</td>\n",
       "    </tr>\n",
       "    <tr>\n",
       "      <th>5</th>\n",
       "      <td>2</td>\n",
       "      <td>True</td>\n",
       "      <td>39</td>\n",
       "    </tr>\n",
       "    <tr>\n",
       "      <th>6</th>\n",
       "      <td>3</td>\n",
       "      <td>False</td>\n",
       "      <td>2651</td>\n",
       "    </tr>\n",
       "    <tr>\n",
       "      <th>7</th>\n",
       "      <td>3</td>\n",
       "      <td>True</td>\n",
       "      <td>28</td>\n",
       "    </tr>\n",
       "    <tr>\n",
       "      <th>8</th>\n",
       "      <td>4</td>\n",
       "      <td>False</td>\n",
       "      <td>711</td>\n",
       "    </tr>\n",
       "    <tr>\n",
       "      <th>9</th>\n",
       "      <td>4</td>\n",
       "      <td>True</td>\n",
       "      <td>11</td>\n",
       "    </tr>\n",
       "    <tr>\n",
       "      <th>10</th>\n",
       "      <td>5</td>\n",
       "      <td>False</td>\n",
       "      <td>749</td>\n",
       "    </tr>\n",
       "    <tr>\n",
       "      <th>11</th>\n",
       "      <td>5</td>\n",
       "      <td>True</td>\n",
       "      <td>16</td>\n",
       "    </tr>\n",
       "    <tr>\n",
       "      <th>12</th>\n",
       "      <td>6</td>\n",
       "      <td>False</td>\n",
       "      <td>2022</td>\n",
       "    </tr>\n",
       "    <tr>\n",
       "      <th>13</th>\n",
       "      <td>6</td>\n",
       "      <td>True</td>\n",
       "      <td>46</td>\n",
       "    </tr>\n",
       "    <tr>\n",
       "      <th>14</th>\n",
       "      <td>7</td>\n",
       "      <td>False</td>\n",
       "      <td>6289</td>\n",
       "    </tr>\n",
       "    <tr>\n",
       "      <th>15</th>\n",
       "      <td>7</td>\n",
       "      <td>True</td>\n",
       "      <td>116</td>\n",
       "    </tr>\n",
       "    <tr>\n",
       "      <th>16</th>\n",
       "      <td>8</td>\n",
       "      <td>False</td>\n",
       "      <td>17283</td>\n",
       "    </tr>\n",
       "    <tr>\n",
       "      <th>17</th>\n",
       "      <td>8</td>\n",
       "      <td>True</td>\n",
       "      <td>344</td>\n",
       "    </tr>\n",
       "    <tr>\n",
       "      <th>18</th>\n",
       "      <td>9</td>\n",
       "      <td>False</td>\n",
       "      <td>30409</td>\n",
       "    </tr>\n",
       "    <tr>\n",
       "      <th>19</th>\n",
       "      <td>9</td>\n",
       "      <td>True</td>\n",
       "      <td>595</td>\n",
       "    </tr>\n",
       "    <tr>\n",
       "      <th>20</th>\n",
       "      <td>10</td>\n",
       "      <td>False</td>\n",
       "      <td>38101</td>\n",
       "    </tr>\n",
       "    <tr>\n",
       "      <th>21</th>\n",
       "      <td>10</td>\n",
       "      <td>True</td>\n",
       "      <td>838</td>\n",
       "    </tr>\n",
       "    <tr>\n",
       "      <th>22</th>\n",
       "      <td>11</td>\n",
       "      <td>False</td>\n",
       "      <td>45188</td>\n",
       "    </tr>\n",
       "    <tr>\n",
       "      <th>23</th>\n",
       "      <td>11</td>\n",
       "      <td>True</td>\n",
       "      <td>1022</td>\n",
       "    </tr>\n",
       "    <tr>\n",
       "      <th>24</th>\n",
       "      <td>12</td>\n",
       "      <td>False</td>\n",
       "      <td>46171</td>\n",
       "    </tr>\n",
       "    <tr>\n",
       "      <th>25</th>\n",
       "      <td>12</td>\n",
       "      <td>True</td>\n",
       "      <td>1127</td>\n",
       "    </tr>\n",
       "    <tr>\n",
       "      <th>26</th>\n",
       "      <td>13</td>\n",
       "      <td>False</td>\n",
       "      <td>46479</td>\n",
       "    </tr>\n",
       "    <tr>\n",
       "      <th>27</th>\n",
       "      <td>13</td>\n",
       "      <td>True</td>\n",
       "      <td>1176</td>\n",
       "    </tr>\n",
       "    <tr>\n",
       "      <th>28</th>\n",
       "      <td>14</td>\n",
       "      <td>False</td>\n",
       "      <td>44367</td>\n",
       "    </tr>\n",
       "    <tr>\n",
       "      <th>29</th>\n",
       "      <td>14</td>\n",
       "      <td>True</td>\n",
       "      <td>1281</td>\n",
       "    </tr>\n",
       "    <tr>\n",
       "      <th>30</th>\n",
       "      <td>15</td>\n",
       "      <td>False</td>\n",
       "      <td>43358</td>\n",
       "    </tr>\n",
       "    <tr>\n",
       "      <th>31</th>\n",
       "      <td>15</td>\n",
       "      <td>True</td>\n",
       "      <td>1325</td>\n",
       "    </tr>\n",
       "    <tr>\n",
       "      <th>32</th>\n",
       "      <td>16</td>\n",
       "      <td>False</td>\n",
       "      <td>36411</td>\n",
       "    </tr>\n",
       "    <tr>\n",
       "      <th>33</th>\n",
       "      <td>16</td>\n",
       "      <td>True</td>\n",
       "      <td>1156</td>\n",
       "    </tr>\n",
       "    <tr>\n",
       "      <th>34</th>\n",
       "      <td>17</td>\n",
       "      <td>False</td>\n",
       "      <td>34001</td>\n",
       "    </tr>\n",
       "    <tr>\n",
       "      <th>35</th>\n",
       "      <td>17</td>\n",
       "      <td>True</td>\n",
       "      <td>987</td>\n",
       "    </tr>\n",
       "    <tr>\n",
       "      <th>36</th>\n",
       "      <td>18</td>\n",
       "      <td>False</td>\n",
       "      <td>31438</td>\n",
       "    </tr>\n",
       "    <tr>\n",
       "      <th>37</th>\n",
       "      <td>18</td>\n",
       "      <td>True</td>\n",
       "      <td>885</td>\n",
       "    </tr>\n",
       "    <tr>\n",
       "      <th>38</th>\n",
       "      <td>19</td>\n",
       "      <td>False</td>\n",
       "      <td>29541</td>\n",
       "    </tr>\n",
       "    <tr>\n",
       "      <th>39</th>\n",
       "      <td>19</td>\n",
       "      <td>True</td>\n",
       "      <td>811</td>\n",
       "    </tr>\n",
       "    <tr>\n",
       "      <th>40</th>\n",
       "      <td>20</td>\n",
       "      <td>False</td>\n",
       "      <td>28061</td>\n",
       "    </tr>\n",
       "    <tr>\n",
       "      <th>41</th>\n",
       "      <td>20</td>\n",
       "      <td>True</td>\n",
       "      <td>862</td>\n",
       "    </tr>\n",
       "    <tr>\n",
       "      <th>42</th>\n",
       "      <td>21</td>\n",
       "      <td>False</td>\n",
       "      <td>29109</td>\n",
       "    </tr>\n",
       "    <tr>\n",
       "      <th>43</th>\n",
       "      <td>21</td>\n",
       "      <td>True</td>\n",
       "      <td>867</td>\n",
       "    </tr>\n",
       "    <tr>\n",
       "      <th>44</th>\n",
       "      <td>22</td>\n",
       "      <td>False</td>\n",
       "      <td>25742</td>\n",
       "    </tr>\n",
       "    <tr>\n",
       "      <th>45</th>\n",
       "      <td>22</td>\n",
       "      <td>True</td>\n",
       "      <td>690</td>\n",
       "    </tr>\n",
       "    <tr>\n",
       "      <th>46</th>\n",
       "      <td>23</td>\n",
       "      <td>False</td>\n",
       "      <td>19709</td>\n",
       "    </tr>\n",
       "    <tr>\n",
       "      <th>47</th>\n",
       "      <td>23</td>\n",
       "      <td>True</td>\n",
       "      <td>457</td>\n",
       "    </tr>\n",
       "  </tbody>\n",
       "</table>\n",
       "</div>"
      ],
      "text/plain": [
       "    most ads hour  converted  user id\n",
       "0               0      False     5434\n",
       "1               0       True      102\n",
       "2               1      False     4740\n",
       "3               1       True       62\n",
       "4               2      False     5294\n",
       "5               2       True       39\n",
       "6               3      False     2651\n",
       "7               3       True       28\n",
       "8               4      False      711\n",
       "9               4       True       11\n",
       "10              5      False      749\n",
       "11              5       True       16\n",
       "12              6      False     2022\n",
       "13              6       True       46\n",
       "14              7      False     6289\n",
       "15              7       True      116\n",
       "16              8      False    17283\n",
       "17              8       True      344\n",
       "18              9      False    30409\n",
       "19              9       True      595\n",
       "20             10      False    38101\n",
       "21             10       True      838\n",
       "22             11      False    45188\n",
       "23             11       True     1022\n",
       "24             12      False    46171\n",
       "25             12       True     1127\n",
       "26             13      False    46479\n",
       "27             13       True     1176\n",
       "28             14      False    44367\n",
       "29             14       True     1281\n",
       "30             15      False    43358\n",
       "31             15       True     1325\n",
       "32             16      False    36411\n",
       "33             16       True     1156\n",
       "34             17      False    34001\n",
       "35             17       True      987\n",
       "36             18      False    31438\n",
       "37             18       True      885\n",
       "38             19      False    29541\n",
       "39             19       True      811\n",
       "40             20      False    28061\n",
       "41             20       True      862\n",
       "42             21      False    29109\n",
       "43             21       True      867\n",
       "44             22      False    25742\n",
       "45             22       True      690\n",
       "46             23      False    19709\n",
       "47             23       True      457"
      ]
     },
     "execution_count": 87,
     "metadata": {},
     "output_type": "execute_result"
    }
   ],
   "source": [
    "df_most_hour = df.groupby(['most ads hour', 'converted'])['user id'].count().reset_index()\n",
    "df_most_hour"
   ]
  },
  {
   "cell_type": "markdown",
   "id": "ab44566b-dd97-446a-9d54-9b1e218f4f41",
   "metadata": {},
   "source": [
    "#### Stage 3 : Data Pre-Processing"
   ]
  },
  {
   "cell_type": "markdown",
   "id": "f7ce890d-001e-41ae-bf86-b7c9f507d6dc",
   "metadata": {},
   "source": [
    "#### Stage 4 : A/B Testing"
   ]
  },
  {
   "cell_type": "markdown",
   "id": "273a11bb-8499-41b3-9218-7cb6fc4632c8",
   "metadata": {},
   "source": [
    "#### Stage 5 : Insight Business"
   ]
  }
 ],
 "metadata": {
  "kernelspec": {
   "display_name": "Python 3 (ipykernel)",
   "language": "python",
   "name": "python3"
  },
  "language_info": {
   "codemirror_mode": {
    "name": "ipython",
    "version": 3
   },
   "file_extension": ".py",
   "mimetype": "text/x-python",
   "name": "python",
   "nbconvert_exporter": "python",
   "pygments_lexer": "ipython3",
   "version": "3.11.5"
  }
 },
 "nbformat": 4,
 "nbformat_minor": 5
}
